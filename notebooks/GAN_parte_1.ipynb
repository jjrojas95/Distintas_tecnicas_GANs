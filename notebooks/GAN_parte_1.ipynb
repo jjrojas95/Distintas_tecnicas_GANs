{
 "cells": [
  {
   "cell_type": "markdown",
   "metadata": {},
   "source": [
    "# Introducción\n",
    "Este notebook tiene como objetivo analizar uno de los artículos de gran impacto en el amplio campo del Deep Learning. Este artículo fue llamado [Generative Adversarial Nets](https://arxiv.org/pdf/1406.2661.pdf) y propuso un nuevo framework para la estimación de modelos generativos. Lo primero que se hará es explicar con algo de detalle los puntos mas importantes del documento y posteriormente se implementará un modelo. "
   ]
  },
  {
   "cell_type": "markdown",
   "metadata": {},
   "source": [
    "# Redes Generativas Adversarias\n",
    "Alrededor de la mitad del año 2014 algunos de los investigadores asociados al departamento de informática de la Universidad de Montreal proponen un nuevo marco de referencia para la estimación de un modelo Generativo basado en redes neuronales, el cual presentarón en el artículo que posteriormente otorgaría el nombre de este marco de referencia hasta el día de hoy llamado [Generative Adversarial Network](https://arxiv.org/pdf/1406.2661.pdf) o GAN, por sus siglas en inglés, como se les conoce popularmente. Pero antes que nada se hace necesario responder si quiera brevemente las siguientes cuestiones ¿Qué son los modelos generativos? ¿Qué son los procesos adversarios?\n",
    "\n",
    "De acuerdo con [developers google](https://developers.google.com/) un [modelo generativo](https://developers.google.com/machine-learning/gan/generative) tiene la capacidad de capturar la probabilidad conjunta P(X,Y) o la densidad de probabilidad P(X) de un grupo de datos, lo que le permite en algunos casos crear objetos similares a dicho conjunto. Por otro lado, un proceso adversario en su forma mas simple es el procedimiento para entrenar dos modelos, para el caso específico de las GAN's son llamados `G` y `D`, a través de un proceso de optimización de juego **minimax**, donde después de un tiempo el entrenamiento se tiende a estabilizar causando que ambos modelos no aprendan mas el uno del otro (Goodfellow et al, 2014).\n",
    "\n",
    "El marco de referencia propuesto por los autores (Goodfellow et al, 2014) consiste en dos redes neuronales: `G` como se le llama al modelo Generativo y `D` que se refiere a un modelo de clasificación que tratará de identificar que imagnes provienen del conjunto de datos real y cuales vienen de `G`. A este clasificador se le es llamado Modelo Discriminativo (Goodfellow et al, 2014). Posteriormente de definir la arquitectura de ambos, se opta por entrenarlos con dos objetivos contrarios: Por parte de `G` se tratará de **maximizar** la probabilidad de que `D` se equivoque. Por otro lado, `D` buscará **minimizar** la probabilidad de caer en dicho error. Después de un amplio entrenamiento proceso de aprendizaje se estabilizará. De acuerdo con las estimaciones de los autores el **punto** donde no existes mas aprendizaje es cuando `D` se acercará a un valor constante de $\\frac{1}{2}$. Se propone usar modelos de redes neuronales debido a el amplio y fácil uso del método de optimización basado en backpropagation.\n",
    "\n",
    "De lo descrito pen el [artículo](https://arxiv.org/pdf/1406.2661.pdf) me gustaría extraer un fragmento con el que trata de explicar de manera ilustrativa el proceso adversario que existen en este framework que proponen: \"El modelo generativo puede ser pensado de manera análoga como un equipo de falsificadores tratando de producir modena falsa los cuales la usan sin detección, por otro lado el modelo discriminativo es análogo a la policía que trata de detectar las falsificaciones. La competencia en este juego lleva a ambos equipos a mejorar en su tarea hasta que las falsificaciones de dinero son indetectables de los genuinos\" "
   ]
  },
  {
   "cell_type": "markdown",
   "metadata": {},
   "source": [
    "## Detalles del entrenamiento\n",
    "Este proceso inicia con la creación de un vector de ruido denotado por `z` que en algunas ocasiones es llamado *latent vector*. La creación de este vector obedece a una distribución de porbabilidad $p_z(z)$, donde en la mayoría de los casos es una distribución uniforme o Normal. \n",
    "\n",
    "Después se representa un mapeo al espacio de datos con $G(z; \\theta_g)$, donde la función `G` es diferenciable y es una red neuronal cuyos pesos pertenecen al conjunto $\\theta_g$. En paralelo también se define una función `D` diferenciable en forma de una red neuronal, cuyo mapeo de entrada es definido por $D(x; \\theta_d)$ donde su salida es un escalar que **refleja** la probabilidad de que `x` provenga del conjunto de datos reales en lugar de $p_g$ (distribución de los datos generados). El modelo final puede ser visto de la siguiente manera:\n",
    "\n",
    "![Diagrama DCGAN cortesía de developers google](https://developers.google.com/machine-learning/gan/images/gan_diagram.svg)\n",
    "\n",
    "Los autores defienen los siguientes creterios de optimización y suposiciones: \n",
    "* **Criterio de optimización**: Entrenar `D` para maximizar la probabilidad de que los valores que provengan del dataset sean asignados con la etiqueta binaria 1, mientras que los que provengan de la distribución $p_g$ sean asignados con 0. \n",
    "* **Criterio de optimización***: Se entrenará `G` para que `D` asigne $p_g$ como 1.\n",
    "* **Suposición**: El aprendizaje del generardor podrá ser efectivamente direccionado si el discriminador del que aprende se encuentra en su optimo global, es decir:$$D_G^*(x) = \\frac{p_{data}(x)}{p_{data}(x) + p_G(x)}$$ Lo que implica que en ocaciones se deba enternar el Discriminador múltiples veces antes de entrenar el generador.\n",
    "\n",
    "De acuerdo con (Goodfellow et all, 2014) la forma matemática de este problema es la siguiente:\n",
    "\n",
    "$$\n",
    "min_G~max_D~V(D, G) = \\mathbf{E}_{x \\sim p_{data}(x)}(logD(x)) + \\mathbf{E}_{z \\sim p_{z}(z)}(log(1 - D(G(z)))) \\tag{1}\n",
    "$$\n",
    "\n",
    "Para un mejor entendimiento, recorramos la ecuación parte por parte:\n",
    "* Lo referente a $\\mathbf{E}_{x \\sim p_{data}(x)}(...)$ tiene varias partes: $\\mathbf{E}$ es el valor esperado o promedio y $x \\sim p_{data}(x)$ especifíca el conjunto al que se va a evaluar su promedio, que para este caso vienen siendo todos los datos provenientes de los originales.\n",
    "* Con respecto a $\\mathbf{E}_{z \\sim p_{z}(z)}(...)$ Las partes funcionan de igual manera que en el anterior, un único distinto es que este apartado $z \\sim p_{z}(z)$ especifica que el conjunto obetivo es `z` en este caso.\n",
    "\n",
    "La figura 1 (Goodfellow et al, 2014) ilustra de gran manera este proceso:\n",
    "![Proceso de entrenamiento de GAN](../imagenes/figura_1_Goodfellow_GAN.PNG)\n",
    "\n",
    "Explicando el código de colores y líneas: \n",
    "1. La línea punteada azul corresponde al valor escalar de `D` en el espacio de datos.\n",
    "2. La línea de puntos negra corresponde al valor de la función de densidad de probabilidad de los datos reales en el dominio definido en la gráfica. **Esta es la distribución que queremos imitar con nuestro modelo generativo**.\n",
    "3. La linea continua verde correponde la función de densidad probabilidad de las imágenes generadas en ese instante de tiempo por `G`.\n",
    "4. La línea horizontal `x` es el espacio de datos completo.\n",
    "5. Las líneas continuas negras que van de la línea horizontal marcada como`z` a la líena horizontal `x` corresponde al mapeo realizado por $G(z)$ en el espacio de datos.\n",
    "\n",
    "En el instante de tiempo $(a)$ podemos asumir que las dos distribuciones (las generadas y las originales) son cercanas y `D` es un clasificador acercandose a su punto óptimo.\n",
    "\n",
    "En el instante de tiempo $(b)$ el discriminador `D` llega a su punto optimo, y por medio del aprendizaje de G este se acerca aún mas a la distribución deseada.\n",
    "\n",
    "En el instante de tiempo $(c)$ el gradiente porvisto por el discriminador `D` va guiando de mejor manera los pesos de `G` para que este pueda mapear eficazmente el *latent vector* con el espacio de datos donde es mas probable encontrar los datos originales.\n",
    "\n",
    "Por último, en el instante de tiempo $(d)$ el discriminador no puede direccionar mas el gradiente de `G` ya que las dos distribuciones son iguales, lo que hace `D` no pueda identificar la diferencia. Así su valor a partir de este punto siempre será $\\frac{1}{2}$\n",
    "\n",
    "Como vimos en la figura de propositos pedagógicos anterior, `D` es una parte crucial del problema debido a que debe porder diferenciar complemetamente entre los datos reales y los generados, ya que es computacionalmente prohibitivo. Se trará de que `D` sea completamente entrenado antes de que lo haga `G`, para esto se crea un nuevo hiperparámetro denotado como $k$ el cual es la cantidad de pasos de optimización que el algoritmo hace sobre `D` antes de hacer un paso en `G`. El buen ajuste de $k$ causará que `D` se aproxime al punto óptimo y hace que `G` cambie lo suficientemente lento. Se presenta el algoritmo en la siguiente imagen (Goodfellow et al, 2014).\n",
    "\n",
    "![Algoritmo de entrenamiento GAN](../imagenes/Algoritmo_entrenamiento_GAN.PNG)\n",
    "\n",
    "La ecuación $(1)$ en ocaciones no provee suficiente gradiente para que `G` aprende, esto sobre todo en el principio del entrenamiento (Goodfellow et al, 2014). `D` puede rechazar los ejemplos que tengan alta confiabilidad de resultado, es decir, al principio para `D` es muy claro que los ejemplo generados con muy disntintos a los reales (Goodfellow et al, 2014). **Así que en lugar de netrenar a `G` para minimizar $log(1- D(G(z)))$ trate de maximizar $logD(G(z))$**. Esto eventualmente nos llevará al mismo punto de entrenamiento sin embargo `D` proverá un mejor gradiente para `G`.\n",
    "\n",
    "A continuación, tataremos de imitar de la mejor manera la arquitectura para una GAN usando los conjuntos de datos MNIST y CIFAR-10:"
   ]
  },
  {
   "cell_type": "markdown",
   "metadata": {},
   "source": [
    "# Configurando nuestro entorno\n",
    "Lo primero que necesitamos es llamar las librerías, funciones y conjuntos de datos necesarios para realizar la tarea:"
   ]
  },
  {
   "cell_type": "code",
   "execution_count": 1,
   "metadata": {},
   "outputs": [],
   "source": [
    "import os\n",
    "import numpy as np\n",
    "from math import sqrt\n",
    "import matplotlib as mpl\n",
    "import matplotlib.pyplot as plt\n",
    "from IPython import display\n",
    "from tqdm.notebook import tqdm\n",
    "import tensorflow_datasets as tfds\n",
    "import tensorflow as tf\n",
    "from helper_func.layers import Maxout\n",
    "from helper_func.utils import ExponentialDecayGANPaper, MomentumAdjustor\n",
    "from tensorflow.keras import Sequential\n",
    "from tensorflow.keras.layers import Dense, Dropout\n",
    "from tensorflow.keras.optimizers.schedules import LearningRateSchedule\n",
    "from tensorflow.keras.optimizers import SGD\n",
    "from tensorflow.keras.losses import BinaryCrossentropy\n",
    "from tensorflow.train import Checkpoint, CheckpointManager\n",
    "\n",
    "plt.rcParams['figure.figsize'] = [12, 8]"
   ]
  },
  {
   "cell_type": "markdown",
   "metadata": {},
   "source": [
    "En esta parte definiremos las constantes de entrenamiento. Es libre de modificarlos para probar nuevos puntos de partida de entrenamiento. "
   ]
  },
  {
   "cell_type": "code",
   "execution_count": 2,
   "metadata": {},
   "outputs": [],
   "source": [
    "SEED = 777\n",
    "M = 50000\n",
    "M_test = 10000\n",
    "LATENT_SIZE = 100\n",
    "LEARNING_RATE = .1\n",
    "BATCH_SIZE = 100\n",
    "FOLDS_LL = 20\n",
    "BATCH_SIZE_TEST = M_test // FOLDS_LL\n",
    "BUFFER_TEST = 3000\n",
    "BUFFER = 1000\n",
    "INIT_MOMENTUM = .5\n",
    "EPOCHS = 500\n",
    "K = 1\n",
    "\n",
    "tf.random.set_seed(SEED)\n",
    "np.random.seed(SEED)"
   ]
  },
  {
   "cell_type": "markdown",
   "metadata": {},
   "source": [
    "Cargamos los datos, para esto vamos a usar el conjunto de números escritos a mano, popularmente llamado [MNIST](http://yann.lecun.com/exdb/mnist/). Se distribulle de este manera por que así es como lo realizan los autores de la investigación."
   ]
  },
  {
   "cell_type": "code",
   "execution_count": 3,
   "metadata": {},
   "outputs": [],
   "source": [
    "mnist, mnist_test = tfds.load(\n",
    "    'mnist', \n",
    "    split=[f'train[:{M}]', f'train[{M}:]'], \n",
    "    data_dir='./', \n",
    "    as_supervised=True, \n",
    "    shuffle_files=True\n",
    ")"
   ]
  },
  {
   "cell_type": "markdown",
   "metadata": {},
   "source": [
    "Observemos los primeros 20 elementos de nuestro dataset"
   ]
  },
  {
   "cell_type": "code",
   "execution_count": 4,
   "metadata": {
    "scrolled": true
   },
   "outputs": [
    {
     "data": {
      "image/png": "[encoded data removed]",
      "text/plain": [
       "<Figure size 864x576 with 20 Axes>"
      ]
     },
     "metadata": {
      "needs_background": "light"
     },
     "output_type": "display_data"
    }
   ],
   "source": [
    "sample = mnist.take(20)\n",
    "\n",
    "fig = plt.gcf()\n",
    "\n",
    "for i, x in sample.enumerate(start=1):\n",
    "    image, _ = x\n",
    "    ax = fig.add_subplot(4, 5, i.numpy())\n",
    "    ax.imshow(image[:, :, 0], cmap='gray')\n",
    "    ax.axis('off')"
   ]
  },
  {
   "cell_type": "markdown",
   "metadata": {},
   "source": [
    "# Adecuando el conjunto de datos\n",
    "En este apartado adecuaremos el dataset para que sea entrada del Discriminator. Los investiagadores hacen una inicialización especial del término bias del la última capa del generador llamada `init_sigmoid_bias_from_marginals`, la cual trataremos de replicar acá. "
   ]
  },
  {
   "cell_type": "code",
   "execution_count": 5,
   "metadata": {},
   "outputs": [],
   "source": [
    "def norm_img(image, label):\n",
    "    return tf.keras.backend.flatten(tf.cast(image, tf.float32)/255.)"
   ]
  },
  {
   "cell_type": "code",
   "execution_count": 6,
   "metadata": {},
   "outputs": [],
   "source": [
    "mnist = mnist.map(\n",
    "    norm_img, num_parallel_calls=tf.data.experimental.AUTOTUNE)"
   ]
  },
  {
   "cell_type": "markdown",
   "metadata": {},
   "source": [
    "`init_sigmoid_bias_from_marginals`"
   ]
  },
  {
   "cell_type": "code",
   "execution_count": 7,
   "metadata": {},
   "outputs": [],
   "source": [
    "mean_dataset = mnist.reduce(np.float32(0), lambda x,y: x/float(M) + y).numpy()\n",
    "mean_dataset = np.clip(mean_dataset, 1e-7, 1-1e-7)\n",
    "init_last_bias_gen = tf.convert_to_tensor(np.log(mean_dataset / (1. - mean_dataset)), dtype= tf.float32)"
   ]
  },
  {
   "cell_type": "markdown",
   "metadata": {},
   "source": [
    "Construimos los dos conjuntos de datos con sus batch seleccionados"
   ]
  },
  {
   "cell_type": "code",
   "execution_count": 8,
   "metadata": {},
   "outputs": [],
   "source": [
    "mnist_test = mnist_test.map(norm_img, num_parallel_calls=tf.data.experimental.AUTOTUNE)\n",
    "mnist_test = mnist_test.shuffle(BUFFER_TEST).batch(BATCH_SIZE_TEST)"
   ]
  },
  {
   "cell_type": "code",
   "execution_count": 9,
   "metadata": {},
   "outputs": [],
   "source": [
    "mnist = mnist.shuffle(BUFFER)\n",
    "mnist = mnist.batch(BATCH_SIZE)\n",
    "mnist = mnist.cache()\n",
    "mnist = mnist.repeat()\n",
    "mnist = mnist.prefetch(tf.data.experimental.AUTOTUNE)"
   ]
  },
  {
   "cell_type": "markdown",
   "metadata": {},
   "source": [
    "Convertimos los datos en una variable [`tf.data.Iterator`](https://www.tensorflow.org/api_docs/python/tf/data/Iterator) para poder \"pedir\" nuestros datos k veces en cada paso de entrenamiento"
   ]
  },
  {
   "cell_type": "code",
   "execution_count": 10,
   "metadata": {},
   "outputs": [],
   "source": [
    "mnist = iter(mnist)"
   ]
  },
  {
   "cell_type": "markdown",
   "metadata": {},
   "source": [
    "\n",
    "# Construcción de modelos\n",
    "Construimos nuestro **Generator** y **Discriminator** la GAN basada en en conjunto de datos MNIST. La arquitectura desarrollada por el investigador la puede encontrar [aqui](https://github.com/goodfeli/adversarial/blob/master/mnist.yaml):"
   ]
  },
  {
   "cell_type": "markdown",
   "metadata": {},
   "source": [
    "## Generator\n",
    "Como se dijo el **Generator** es un modelo basado en redes neuronales encargado de aprender la distribución del conjunto de datos real a partir del proceso adversario. Por otra parte, su entrada corresponde a un \"latent vector\" $z$ el cual tiene una distriución de probabilidad $p_z$ asociada. En este caso el autor elige en vector $z \\in \\mathbb{R}^{100}$ y $p_z = U(-\\sqrt{3}, \\sqrt{3})$"
   ]
  },
  {
   "cell_type": "code",
   "execution_count": 11,
   "metadata": {},
   "outputs": [],
   "source": [
    "def make_generator(seed=SEED):\n",
    "    # Los autores hacen una serie de inicializaciones de pesos que se replicarán\n",
    "    init_kernel_gen = tf.random_uniform_initializer(-.05 , .05, seed=seed)\n",
    "    model = Sequential([\n",
    "        Dense(1200, activation='relu', kernel_initializer=init_kernel_gen, input_shape=(100,)),\n",
    "        Dense(1200, activation='relu', kernel_initializer=init_kernel_gen),\n",
    "        Dense(784, activation='sigmoid', kernel_initializer=init_kernel_gen)\n",
    "    ])\n",
    "    \n",
    "    return model  "
   ]
  },
  {
   "cell_type": "code",
   "execution_count": 12,
   "metadata": {},
   "outputs": [
    {
     "name": "stdout",
     "output_type": "stream",
     "text": [
      "Model: \"sequential\"\n",
      "_________________________________________________________________\n",
      "Layer (type)                 Output Shape              Param #   \n",
      "=================================================================\n",
      "dense (Dense)                (None, 1200)              121200    \n",
      "_________________________________________________________________\n",
      "dense_1 (Dense)              (None, 1200)              1441200   \n",
      "_________________________________________________________________\n",
      "dense_2 (Dense)              (None, 784)               941584    \n",
      "=================================================================\n",
      "Total params: 2,503,984\n",
      "Trainable params: 2,503,984\n",
      "Non-trainable params: 0\n",
      "_________________________________________________________________\n"
     ]
    }
   ],
   "source": [
    "gen = make_generator()\n",
    "gen.summary()"
   ]
  },
  {
   "cell_type": "markdown",
   "metadata": {},
   "source": [
    "Aplicamos la inicialización del bias de la última capa del **Generator**"
   ]
  },
  {
   "cell_type": "code",
   "execution_count": 13,
   "metadata": {},
   "outputs": [],
   "source": [
    "_ = gen.trainable_variables[-1].assign(init_last_bias_gen)"
   ]
  },
  {
   "cell_type": "code",
   "execution_count": 14,
   "metadata": {},
   "outputs": [
    {
     "data": {
      "image/png": "[encoded data removed]",
      "text/plain": [
       "<Figure size 864x576 with 1 Axes>"
      ]
     },
     "metadata": {
      "needs_background": "light"
     },
     "output_type": "display_data"
    }
   ],
   "source": [
    "gen = make_generator()\n",
    "noise = tf.random.uniform([1, 100], minval=-1.*sqrt(3.), maxval=sqrt(3.))\n",
    "generated_image = gen(noise, training=False)\n",
    "generated_image = tf.reshape(generated_image, (28, 28))\n",
    "plt.imshow(generated_image.numpy(), cmap='gray')\n",
    "_ = plt.axis('off')"
   ]
  },
  {
   "cell_type": "markdown",
   "metadata": {},
   "source": [
    "## Discriminator\n",
    "El **discriminator**, al igual que generator es un modelo basado en redes neuronales. Su función es definir si una entrada es similar o no al conjunto real. Los autores implementan la capa [Maxout](https://arxiv.org/pdf/1302.4389.pdf) (Goodfellow et al., 2013), la cual (en una descripción breve) obtiene el máximo de una serie de combinaciones lineales de las entradas y es que para ellos explota de mejor manera las características de la técnica *Dropout*, para mayor información remitace al artículo en el link."
   ]
  },
  {
   "cell_type": "code",
   "execution_count": 15,
   "metadata": {},
   "outputs": [],
   "source": [
    "def make_discriminator(seed=SEED):\n",
    "    # El autor hace una serie de inicializaciones de pesos que se replicarán\n",
    "    init_kernel = tf.random_uniform_initializer(-.005 , .005, seed=seed)\n",
    "    model = Sequential([\n",
    "        Dropout(.2, input_shape=(784,)),\n",
    "        Maxout(240, 5, kernel_initializer=init_kernel),\n",
    "        Dropout(.5),\n",
    "        Maxout(240, 5, kernel_initializer=init_kernel),\n",
    "        Dropout(.5),\n",
    "        Dense(1, kernel_initializer=init_kernel),\n",
    "    ])\n",
    "    \n",
    "    return model"
   ]
  },
  {
   "cell_type": "code",
   "execution_count": 16,
   "metadata": {},
   "outputs": [
    {
     "name": "stdout",
     "output_type": "stream",
     "text": [
      "Model: \"sequential_2\"\n",
      "_________________________________________________________________\n",
      "Layer (type)                 Output Shape              Param #   \n",
      "=================================================================\n",
      "dropout (Dropout)            (None, 784)               0         \n",
      "_________________________________________________________________\n",
      "maxout (Maxout)              (None, 240)               942000    \n",
      "_________________________________________________________________\n",
      "dropout_1 (Dropout)          (None, 240)               0         \n",
      "_________________________________________________________________\n",
      "maxout_1 (Maxout)            (None, 240)               289200    \n",
      "_________________________________________________________________\n",
      "dropout_2 (Dropout)          (None, 240)               0         \n",
      "_________________________________________________________________\n",
      "dense_6 (Dense)              (None, 1)                 241       \n",
      "=================================================================\n",
      "Total params: 1,231,441\n",
      "Trainable params: 1,231,441\n",
      "Non-trainable params: 0\n",
      "_________________________________________________________________\n"
     ]
    }
   ],
   "source": [
    "disc = make_discriminator()\n",
    "disc.summary()"
   ]
  },
  {
   "cell_type": "code",
   "execution_count": 17,
   "metadata": {},
   "outputs": [
    {
     "name": "stdout",
     "output_type": "stream",
     "text": [
      "tf.Tensor([[-0.00016357]], shape=(1, 1), dtype=float32)\n"
     ]
    }
   ],
   "source": [
    "disc = make_discriminator()\n",
    "decision = disc(tf.reshape(generated_image, (1, -1)))\n",
    "print(decision)"
   ]
  },
  {
   "cell_type": "markdown",
   "metadata": {},
   "source": [
    "## Definición de la métrica de evaluación\n",
    "Siempre es bueno tener alguna métrica que nos pueda direccionar nuestro entrenamiento. En este caso ya que trabajamos con un problema no supervisado, es difícil encontrar alguna, sin embargo los autores eligen el la métrica **log likelihood** a través de una ventana Gaussiana de Parzen, esto con el fin de estimar la probabilidad que los datos de testeo se encuentren en la distribución $p_g$, para mayor información leer el siguiente [artículo](http://proceedings.mlr.press/v9/desjardins10a/desjardins10a.pdf). El cálculo es algo denso, así que se elige partir el análisis en 10 batch. El repositorio en el que nos basamos (En la sección de **Referencias**) $\\sigma = 0.2$ por defecto remitase a (Desjardins et al., 2010) para mayor información de como obtener $\\sigma$ para el dataset MNIST y el dataser CIFAR100. \n",
    "\n",
    "**NOTA 1:** Está forma de hacer el cálculo es arbitraria, no me estoy enfocando en la métrica de comparación si no en el proceso de las GAN.\n",
    "\n",
    "**NOTA 2:** La formula `parzen` es la misma de este [link](https://github.com/goodfeli/adversarial/blob/master/__init__.py) la función allí es llamada `theano_parzen`"
   ]
  },
  {
   "cell_type": "code",
   "execution_count": 18,
   "metadata": {},
   "outputs": [],
   "source": [
    "def parzen(data, samples, sigma=.2):\n",
    "    x = data[:, None, :]\n",
    "    s = samples[None, :, :]\n",
    "    fracc = -.5 * ((x - s)/sigma)**2\n",
    "    exp_gaus = tf.reduce_sum(fracc, axis=-1)\n",
    "    \n",
    "    max_ = tf.reduce_max(exp_gaus, axis = -1)\n",
    "    \n",
    "    E = max_ + tf.math.log(tf.reduce_mean(tf.math.exp(exp_gaus - max_[:, None]), axis=-1))\n",
    "    Z = samples.shape[1] * tf.math.log(sigma * tf.math.sqrt(np.pi * 2))\n",
    "    \n",
    "    return tf.reduce_mean(E - Z)"
   ]
  },
  {
   "cell_type": "code",
   "execution_count": 19,
   "metadata": {},
   "outputs": [],
   "source": [
    "def get_ll_metric(test, generator):\n",
    "    noise = tf.random.uniform((M_test, 100), minval=-1.*sqrt(3.), maxval=sqrt(3.))\n",
    "    S = generator(noise)\n",
    "    ll = []\n",
    "    i = 0\n",
    "    for test_batch in tqdm(test, desc='Log-likelihood Validation', leave=False):\n",
    "        ll.append(parzen(test_batch, S[i:i+test_batch.shape[0]], .2).numpy())\n",
    "        i += test_batch.shape[0]\n",
    "    ll = np.array(ll)\n",
    "    return ll.mean(), ll.std()"
   ]
  },
  {
   "cell_type": "markdown",
   "metadata": {},
   "source": [
    "Este cálculo es muy intensivo, así que en un computador le puede tardar un minuto y 30 segundos."
   ]
  },
  {
   "cell_type": "code",
   "execution_count": 20,
   "metadata": {},
   "outputs": [
    {
     "data": {
      "application/vnd.jupyter.widget-view+json": {
       "model_id": "",
       "version_major": 2,
       "version_minor": 0
      },
      "text/plain": [
       "HBox(children=(FloatProgress(value=0.0, description='Log-likelihood Validation', max=20.0, style=ProgressStyle…"
      ]
     },
     "metadata": {},
     "output_type": "display_data"
    },
    {
     "data": {
      "text/plain": [
       "(-1732.4596, 2.038918)"
      ]
     },
     "execution_count": 20,
     "metadata": {},
     "output_type": "execute_result"
    }
   ],
   "source": [
    "get_ll_metric(mnist_test, gen)"
   ]
  },
  {
   "cell_type": "markdown",
   "metadata": {},
   "source": [
    "## Definición funciones de costo y optimizadores\n",
    "En este apartado se definirán las funciones de costo para la actualización de las variables del **Discriminator** y la función del costos del **Generator**. Además se especificará los optimizadores de para el **Generator** y **Discriminator** con la respectiva programación de la tasa de aprendizaje y momentum. Empezaremos por estos últimos:\n",
    "\n",
    "**NOTA:** La programación de la tasa de aprendizaje y el ajuste del momentum es basado en las funciones respectivas usadas por los investigadores de la librería [pylearn2](https://github.com/lisa-lab/pylearn2)"
   ]
  },
  {
   "cell_type": "code",
   "execution_count": 21,
   "metadata": {},
   "outputs": [],
   "source": [
    "lr_scheduler = ExponentialDecayGANPaper(init_lr=LEARNING_RATE, decay_factor=1.000004)"
   ]
  },
  {
   "cell_type": "code",
   "execution_count": 22,
   "metadata": {},
   "outputs": [],
   "source": [
    "gen_opt = SGD(learning_rate=lr_scheduler, momentum=INIT_MOMENTUM)\n",
    "disc_opt = SGD(learning_rate=lr_scheduler, momentum=INIT_MOMENTUM)"
   ]
  },
  {
   "cell_type": "code",
   "execution_count": 23,
   "metadata": {},
   "outputs": [],
   "source": [
    "momentum_scheduler = MomentumAdjustor(INIT_MOMENTUM, final_momentum=.7, start=1, saturate=250)"
   ]
  },
  {
   "cell_type": "code",
   "execution_count": 24,
   "metadata": {},
   "outputs": [],
   "source": [
    "loss = BinaryCrossentropy(from_logits=True)"
   ]
  },
  {
   "cell_type": "markdown",
   "metadata": {},
   "source": [
    "## Puntos de control\n",
    "Acá ubicaremos donde serán gardados los puntos de control del epoch mas actual y del epoch con la mejor métrica de entrenamiento."
   ]
  },
  {
   "cell_type": "code",
   "execution_count": 25,
   "metadata": {},
   "outputs": [],
   "source": [
    "checkpoint = Checkpoint(gen=gen, disc=disc, gen_opt=gen_opt, disc_opt=disc_opt)\n",
    "manager_best_metric = CheckpointManager(checkpoint, directory=\"./checkpoint_mnist_model/best_metric\", max_to_keep=1)\n",
    "manager_cpkt = CheckpointManager(checkpoint, directory=\"./checkpoint_mnist_model/train_progress\", max_to_keep=3)"
   ]
  },
  {
   "cell_type": "markdown",
   "metadata": {},
   "source": [
    "## Visualizador de resultados\n",
    "Crearemos una función para visualizar en una matriz la imagenes generadas"
   ]
  },
  {
   "cell_type": "code",
   "execution_count": 26,
   "metadata": {},
   "outputs": [],
   "source": [
    "def plot_generate_image(generator, row, col, seed = SEED):\n",
    "    latent_vector = tf.random.uniform((int(row*col),LATENT_SIZE), minval=-1.*sqrt(3.), maxval=sqrt(3.), seed=seed)\n",
    "    gen_images = generator(latent_vector, training=False)\n",
    "    \n",
    "    fig = plt.gcf()\n",
    "    \n",
    "    for i in range(int(row*col)):\n",
    "        ax = fig.add_subplot(int(row), int(col), i+1)\n",
    "        ax.imshow(tf.reshape(gen_images[i], (28,28)), cmap='gray')\n",
    "        ax.axis('off')\n",
    "    plt.show()"
   ]
  },
  {
   "cell_type": "markdown",
   "metadata": {},
   "source": [
    "## Creando un ciclo de entrenamiento\n",
    "A continuación crearemos un ciclo de entrenamiento dependiedo de las ocaciones que el **Discriminator** se debe actualizar ($k$) con respecto al **Generator**, recuerde que entre mayor cantidada de actualizaciones requiera `D` mas lento será el proceso de entrenamiento. En este caso se definío como $k = 1$. También haremos una función para la visualización del entrenamiento de manera cualitativa:"
   ]
  },
  {
   "cell_type": "code",
   "execution_count": 27,
   "metadata": {},
   "outputs": [],
   "source": [
    "@tf.function\n",
    "def train_disc(images, generator, discriminator, dis_optimizer):\n",
    "    noise = tf.random.uniform((images.shape[0],LATENT_SIZE), minval=-1.*sqrt(3.), maxval=sqrt(3.))   \n",
    "        \n",
    "    with tf.GradientTape() as tape:\n",
    "        generate_imgs = generator(noise, training=True)\n",
    "        \n",
    "        real_output = discriminator(images, training=True)\n",
    "        fake_output = discriminator(generate_imgs, training=True)\n",
    "        \n",
    "        real_loss = loss(tf.ones_like(real_output), real_output)\n",
    "        fake_loss = loss(tf.zeros_like(fake_output), fake_output)\n",
    "        disc_loss = .5*(real_loss + fake_loss)\n",
    "        \n",
    "    grads = tape.gradient(disc_loss, discriminator.trainable_weights)\n",
    "    dis_optimizer.apply_gradients(zip(grads, discriminator.trainable_weights))"
   ]
  },
  {
   "cell_type": "code",
   "execution_count": 28,
   "metadata": {},
   "outputs": [],
   "source": [
    "@tf.function\n",
    "def train_GAN(images, generator, discriminator, gen_optimizer, dis_optimizer):\n",
    "    noise = tf.random.uniform((images.shape[0], LATENT_SIZE), minval=-1.*sqrt(3.), maxval=sqrt(3.))   \n",
    "\n",
    "    with tf.GradientTape() as gen_tape, tf.GradientTape() as disc_tape:\n",
    "        generate_imgs = generator(noise, training=True)\n",
    "        \n",
    "        real_output = discriminator(images, training=True)\n",
    "        fake_output = discriminator(generate_imgs, training=True)\n",
    "        \n",
    "        real_loss = loss(tf.ones_like(real_output), real_output)\n",
    "        fake_loss = loss(tf.zeros_like(fake_output), fake_output)\n",
    "    \n",
    "        disc_loss = .5*(real_loss + fake_loss)\n",
    "        gen_loss = loss(tf.ones_like(fake_output), fake_output)\n",
    "\n",
    "        \n",
    "    gen_grads = gen_tape.gradient(gen_loss, generator.trainable_weights)\n",
    "    gen_optimizer.apply_gradients(zip(gen_grads, generator.trainable_weights))\n",
    "    \n",
    "    disc_grads = disc_tape.gradient(disc_loss, discriminator.trainable_weights)\n",
    "    dis_optimizer.apply_gradients(zip(disc_grads, discriminator.trainable_weights))"
   ]
  },
  {
   "cell_type": "code",
   "execution_count": 29,
   "metadata": {},
   "outputs": [],
   "source": [
    "def train_step(images_iterator, generator, discriminator, gen_optimizer, dis_optimizer, k=K):\n",
    "    for _ in range(k-1):\n",
    "        images = images_iterator.get_next_as_optional()\n",
    "        images = images.get_value()\n",
    "        train_disc(images, generator, discriminator, dis_optimizer)\n",
    "    else:\n",
    "        images = images_iterator.get_next_as_optional()\n",
    "        images = images.get_value()\n",
    "        train_GAN(images, generator, discriminator, gen_optimizer, dis_optimizer)\n",
    "        "
   ]
  },
  {
   "cell_type": "code",
   "execution_count": 30,
   "metadata": {},
   "outputs": [],
   "source": [
    "def test_step(test_data, generator):\n",
    "    return get_ll_metric(test_data, generator)"
   ]
  },
  {
   "cell_type": "markdown",
   "metadata": {},
   "source": [
    "### Entrenamiento\n",
    "Ahora realizaremos el entrenamiento. Tenga encuenta que en un Computador sin GPU cada epoch tomará entre 3 minutos y 30 segundos, y 4 minutos. Puede evitar el entrenamiento cargando el punto de control en el epoch con mejor métrica de entrenamiento descomentando la siguiente celda. Desde mis perspectiva puede encontrar buenas muestras generadas a partir de los 70 epochs."
   ]
  },
  {
   "cell_type": "code",
   "execution_count": 31,
   "metadata": {},
   "outputs": [
    {
     "data": {
      "text/plain": [
       "'./checkpoint_mnist_model/best_metric\\\\ckpt-1932'"
      ]
     },
     "execution_count": 31,
     "metadata": {},
     "output_type": "execute_result"
    }
   ],
   "source": [
    "manager_best_metric.restore_or_initialize()"
   ]
  },
  {
   "cell_type": "markdown",
   "metadata": {},
   "source": [
    "#### Loop de entrenamiento"
   ]
  },
  {
   "cell_type": "code",
   "execution_count": null,
   "metadata": {},
   "outputs": [],
   "source": [
    "max_ll = [-np.inf, 0.]"
   ]
  },
  {
   "cell_type": "code",
   "execution_count": null,
   "metadata": {
    "scrolled": false
   },
   "outputs": [],
   "source": [
    "for epoch in range(EPOCHS):\n",
    "    # \"Ajustar el nuevo momentum de acuerdo al epoch\"\n",
    "    gen_opt.momentum.assign(momentum_scheduler(epoch+1))\n",
    "    disc_opt.momentum.assign(momentum_scheduler(epoch+1))\n",
    "    \n",
    "    # Pasos de entrenamiento por cada batch\n",
    "    for step in tqdm(range(M // BATCH_SIZE), desc='Steps', leave=False):\n",
    "        \n",
    "        train_step(\n",
    "            images_iterator=mnist, \n",
    "            generator=gen, \n",
    "            discriminator=disc, \n",
    "            gen_optimizer=gen_opt, \n",
    "            dis_optimizer=disc_opt, \n",
    "            k=K)   \n",
    "    \n",
    "    ll_mean, ll_std = test_step(test_data=mnist_test, generator=gen)\n",
    "    \n",
    "    # Esta es la forma simple de seleccionar el mejor punto de control, sin embargo\n",
    "    # podría evaluar si es estadísticamente significativa la mejora antes de actualizar\n",
    "    # el punto de control\n",
    "    if max_ll[0] < ll_mean:\n",
    "        manager_best_metric.save(checkpoint_number=epoch+1, check_interval=False)\n",
    "        max_ll[0] = ll_mean\n",
    "        max_ll[1] = ll_std\n",
    "    manager_cpkt.save(checkpoint_number=epoch+1)\n",
    "    \n",
    "    display.clear_output(wait=True)\n",
    "    print(f'Epoch: {epoch + 1}')\n",
    "    print(f'Log-likelihood: {ll_mean:4.2f} +/- {ll_std:4.4f}, Max ll: {max_ll[0]:4.2f} +/- {max_ll[1]:2.4f}')\n",
    "    plot_generate_image(gen, 4, 5)"
   ]
  },
  {
   "cell_type": "markdown",
   "metadata": {},
   "source": [
    "## Verificar resultados\n",
    "A continuación de manera cualitativa verificaremos si los datos generados son parecidos a los reales. Los autores usan varias métricas para esto, si tiene dudas remítase al [artículo](https://arxiv.org/pdf/1406.2661.pdf)"
   ]
  },
  {
   "cell_type": "code",
   "execution_count": 32,
   "metadata": {},
   "outputs": [
    {
     "data": {
      "image/png": "[encoded data removed]",
      "text/plain": [
       "<Figure size 864x576 with 20 Axes>"
      ]
     },
     "metadata": {
      "needs_background": "light"
     },
     "output_type": "display_data"
    }
   ],
   "source": [
    "plot_generate_image(gen, 4, 5)"
   ]
  },
  {
   "cell_type": "code",
   "execution_count": 33,
   "metadata": {},
   "outputs": [
    {
     "data": {
      "image/png": "[encoded data removed]",
      "text/plain": [
       "<Figure size 864x576 with 20 Axes>"
      ]
     },
     "metadata": {
      "needs_background": "light"
     },
     "output_type": "display_data"
    }
   ],
   "source": [
    "fig = plt.gcf()\n",
    "real_images = mnist.get_next_as_optional()\n",
    "real_images = real_images.get_value()\n",
    "real_images = real_images[:20]\n",
    "for i in range(20):\n",
    "    ax = fig.add_subplot(4, 5, i+1)\n",
    "    ax.imshow(tf.reshape(real_images[i,:], (28,28)), cmap='gray')\n",
    "    ax.axis('off')\n",
    "plt.show()"
   ]
  },
  {
   "cell_type": "markdown",
   "metadata": {},
   "source": [
    "## Interpolación de los números\n",
    "Si tomamos dos números aleatorios y realizamos una interpolación lineal entre ellos podremos ver una transformación de uno a otro."
   ]
  },
  {
   "cell_type": "code",
   "execution_count": 34,
   "metadata": {},
   "outputs": [
    {
     "data": {
      "image/png": "[encoded data removed]",
      "text/plain": [
       "<Figure size 1152x144 with 20 Axes>"
      ]
     },
     "metadata": {
      "needs_background": "light"
     },
     "output_type": "display_data"
    }
   ],
   "source": [
    "uppper_limit_noise = tf.random.uniform((LATENT_SIZE,), minval=-1.*sqrt(3.), maxval=sqrt(3.), seed=SEED)\n",
    "bottom_limit_noise = tf.ones((LATENT_SIZE,)) * -1.*sqrt(3.)\n",
    "\n",
    "generate_interp_noise = tf.linspace(bottom_limit_noise, uppper_limit_noise, 20, axis=0)\n",
    "\n",
    "fig = plt.figure(figsize=(16,2))\n",
    "generate_interp_imgs = gen(generate_interp_noise, training=False)\n",
    "for i in range(20):\n",
    "    ax = fig.add_subplot(1, 20, i+1)\n",
    "    ax.imshow(tf.reshape(generate_interp_imgs[i], (28,28)), cmap='gray')\n",
    "    ax.axis('off')"
   ]
  },
  {
   "cell_type": "markdown",
   "metadata": {},
   "source": [
    "## Mejor Log-Likelihood"
   ]
  },
  {
   "cell_type": "code",
   "execution_count": 35,
   "metadata": {},
   "outputs": [
    {
     "data": {
      "application/vnd.jupyter.widget-view+json": {
       "model_id": "",
       "version_major": 2,
       "version_minor": 0
      },
      "text/plain": [
       "HBox(children=(FloatProgress(value=0.0, description='Log-likelihood Validation', max=20.0, style=ProgressStyle…"
      ]
     },
     "metadata": {},
     "output_type": "display_data"
    },
    {
     "data": {
      "text/plain": [
       "(71.0813, 9.5220375)"
      ]
     },
     "execution_count": 35,
     "metadata": {},
     "output_type": "execute_result"
    }
   ],
   "source": [
    "test_step(test_data=mnist_test, generator=gen)"
   ]
  },
  {
   "cell_type": "markdown",
   "metadata": {},
   "source": [
    "## Guardar generador\n",
    "La siguiente celda guardará el generador creado para su posterior uso."
   ]
  },
  {
   "cell_type": "code",
   "execution_count": null,
   "metadata": {},
   "outputs": [],
   "source": [
    "saved_dir = './generator_mnist/1/'\n",
    "tf.saved_model.save(gen, saved_dir)"
   ]
  },
  {
   "cell_type": "markdown",
   "metadata": {},
   "source": [
    "# Conclusiones y observaciones\n",
    "Aquí explicaremos unas conclusiones propias y del [artículo](https://arxiv.org/pdf/1406.2661.pdf) en el que nos basamos:\n",
    "* El entrenamiento ocurre en espaciós de selección de parámetros muy específicos, esto lo podemos ver con la incialización de parámetros de ambos modelos, la cual no es muy común. Como con la programación de la tasa de entrenamiento y el ajuste del momentum.\n",
    "* El hiperparámestro `K` es muy importante debido a que este puede asegurar direccionar de buena manera el entrenamiento. **Es importante que recuerde la suposición de discriminador óptimo**.\n",
    "* Para las arquitecturas propuestas por los autores podemos notar que el generador ostensiblemente tiene una mayor complejidad (mayor cantidada de parámetros) que el discriminador.\n",
    "* Algunas extensiones claves del framework propuesto son (Goodfellow et al, 2014):\n",
    "    * Estimación de un modelo generativo condicional $p(x|c)$ a partir de adicionar esta variable en `G` y `D`.\n",
    "    * Generación artificial de conjuntos de entrenamiento. Esta puede ser una buena alternativa para hacer *Data Augmentation*.\n",
    "    * Se puede investigar que otras distribuciones en el *latent vector* pueden ayudar a mejorar el entrenamiento **(Posteriores investigaciones le darán un estándar a esto)**."
   ]
  },
  {
   "cell_type": "markdown",
   "metadata": {},
   "source": [
    "# Referencias\n",
    "* I. J. Goodfellow, J. Pouget-Abadie, M. Mirza, B. Xu, D. Warde-Farley, S. Ozair, A. Courville, Y. Bengio (2014). *Generative Adversarial Nets*. arXiv. Disponible [aquí](https://arxiv.org/pdf/1406.2661.pdf)\n",
    "* I. J. Goodfellow, D. Warde-Farley, M. Mirza, A. Courville, Y. Bengio (2013). *Maxout networks*. ICML’2013. Disponible [aquí](https://arxiv.org/pdf/1302.4389.pdf)\n",
    "* G. Desjardins, A. Courville, Y. Bengio, P. Vincent, O. Delalleau (2010). *Tempered Markov chain monte carlo for training of restricted Boltzmann machine*. JMLR W&CP: Proceedings of the Thirteenth International Conference on Artificial Intelligence and Statistics (AISTATS 2010) (pp. 145–152). Chia Laguna Resort, Sardinia, Italy. Disponible [aquí](http://proceedings.mlr.press/v9/desjardins10a/desjardins10a.pdf)\n",
    "\n",
    "Repositorio con los código originales [aquí](https://github.com/goodfeli/adversarial)\n",
    "\n",
    "Resumen original del entrenamiento en [YAML](https://github.com/goodfeli/adversarial/blob/master/mnist.yaml)"
   ]
  },
  {
   "cell_type": "markdown",
   "metadata": {},
   "source": [
    "# Comentarios finales\n",
    "Posteriormente si sigue ahondando en este tema o en siguientes notebooks aprenderá de manera general esto:\n",
    "* Así (Goodfellow et al., 2014) propongan un ciclo de entrenamiento donde se actualiza `K` veces el discriminador y después el generador, hasta lo que entendía de analizar los códigos del repositorio base, esta actualización la hacen al mismo tiempo. \n",
    "* En muchos casos, para la estimación de modelos generativos de imágenes resulta mejor usar capas [Convolucionales](https://towardsdatascience.com/a-comprehensive-guide-to-convolutional-neural-networks-the-eli5-way-3bd2b1164a53) y capas [Deconvolucionales](https://datascience.stackexchange.com/questions/6107/what-are-deconvolutional-layers) para el discriminador y el generador, respectivamente. Esto Debido a que llegan a resultados mejores en menos epochs.\n",
    "* Existen muchas técnicas para estabilizar el entrenamiento de este framework. **Sí, así se vea sencillo entrenar redes GAN con lo que aprendimos hasta ahora, es todo lo contrario (con solo que sabemos, esto llega a buenos resultados solo en inicializaciones de pesos y arquitecturas específicas)**. Puede ver mas de esto en este [link](https://towardsdatascience.com/10-lessons-i-learned-training-generative-adversarial-networks-gans-for-a-year-c9071159628)\n",
    "* Este es un campo muy diverso con muchas aplicaciones interesantes."
   ]
  }
 ],
 "metadata": {
  "kernelspec": {
   "display_name": "venv",
   "language": "python",
   "name": "venv"
  },
  "language_info": {
   "codemirror_mode": {
    "name": "ipython",
    "version": 3
   },
   "file_extension": ".py",
   "mimetype": "text/x-python",
   "name": "python",
   "nbconvert_exporter": "python",
   "pygments_lexer": "ipython3",
   "version": "3.6.8"
  }
 },
 "nbformat": 4,
 "nbformat_minor": 4
}
